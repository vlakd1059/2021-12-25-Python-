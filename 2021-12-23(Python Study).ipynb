{
 "cells": [
  {
   "cell_type": "markdown",
   "id": "bf82b8a2",
   "metadata": {},
   "source": [
    "튜플(tuple)\n",
    "- 파이썬의 자료구조 형태중 하나\n",
    "- 순서가 있는 집합(인덱스)\n",
    "- 소괄호()로 작성되며, 콤마(,)로 구분된다.\n",
    "- 추가, 수정, 삭제가 불가능하다\n",
    "- 처리속도 향상 및 메모리 공간 절약\n",
    "- 값이 변하면 안되는 경우 사용한다.\n",
    "- 구문을 더 간단하게 사용하는 경우"
   ]
  },
  {
   "cell_type": "code",
   "execution_count": 6,
   "id": "56a91fec",
   "metadata": {},
   "outputs": [
    {
     "name": "stdout",
     "output_type": "stream",
     "text": [
      "(1, 2, 3)\n",
      "('My', 'Name')\n",
      "(1, 2, 'My', 'Name')\n",
      "(1, 2, ('My', 'Name'))\n"
     ]
    }
   ],
   "source": [
    "a=()\n",
    "b=(1,2,3)\n",
    "c=('My','Name')\n",
    "d=(1,2,'My','Name')\n",
    "e=(1,2,('My','Name'))\n",
    "type(a)\n",
    "print(b)\n",
    "print(c)\n",
    "print(d)\n",
    "print(e)"
   ]
  },
  {
   "cell_type": "code",
   "execution_count": 7,
   "id": "4a3abf8b",
   "metadata": {},
   "outputs": [],
   "source": [
    "tuple1=(0,1,2,3,('a','b','c'),5)"
   ]
  },
  {
   "cell_type": "code",
   "execution_count": 8,
   "id": "9007d139",
   "metadata": {},
   "outputs": [
    {
     "data": {
      "text/plain": [
       "2"
      ]
     },
     "execution_count": 8,
     "metadata": {},
     "output_type": "execute_result"
    }
   ],
   "source": [
    "tuple1[2]"
   ]
  },
  {
   "cell_type": "code",
   "execution_count": 10,
   "id": "92ebbb24",
   "metadata": {},
   "outputs": [
    {
     "data": {
      "text/plain": [
       "('a', 'b', 'c')"
      ]
     },
     "execution_count": 10,
     "metadata": {},
     "output_type": "execute_result"
    }
   ],
   "source": [
    "tuple1[4]"
   ]
  },
  {
   "cell_type": "code",
   "execution_count": 12,
   "id": "5c876c0e",
   "metadata": {},
   "outputs": [
    {
     "data": {
      "text/plain": [
       "(1, 2)"
      ]
     },
     "execution_count": 12,
     "metadata": {},
     "output_type": "execute_result"
    }
   ],
   "source": [
    "tuple1[1:3]"
   ]
  },
  {
   "cell_type": "code",
   "execution_count": 13,
   "id": "101b830f",
   "metadata": {},
   "outputs": [
    {
     "data": {
      "text/plain": [
       "(3, ('a', 'b', 'c'), 5)"
      ]
     },
     "execution_count": 13,
     "metadata": {},
     "output_type": "execute_result"
    }
   ],
   "source": [
    "tuple1[3:]"
   ]
  },
  {
   "cell_type": "code",
   "execution_count": 14,
   "id": "81ff2d3b",
   "metadata": {},
   "outputs": [
    {
     "data": {
      "text/plain": [
       "6"
      ]
     },
     "execution_count": 14,
     "metadata": {},
     "output_type": "execute_result"
    }
   ],
   "source": [
    "len(tuple1)"
   ]
  },
  {
   "cell_type": "markdown",
   "id": "35a077fd",
   "metadata": {},
   "source": [
    "데이터 포함 여부 확인\n",
    "- in, not in"
   ]
  },
  {
   "cell_type": "code",
   "execution_count": 15,
   "id": "0e35f492",
   "metadata": {},
   "outputs": [],
   "source": [
    "str1 = \"파이썬 최고\""
   ]
  },
  {
   "cell_type": "code",
   "execution_count": 17,
   "id": "54b6cdaf",
   "metadata": {},
   "outputs": [
    {
     "data": {
      "text/plain": [
       "True"
      ]
     },
     "execution_count": 17,
     "metadata": {},
     "output_type": "execute_result"
    }
   ],
   "source": [
    "\"파이썬\" in str1"
   ]
  },
  {
   "cell_type": "code",
   "execution_count": 19,
   "id": "d2fe640d",
   "metadata": {},
   "outputs": [
    {
     "data": {
      "text/plain": [
       "True"
      ]
     },
     "execution_count": 19,
     "metadata": {},
     "output_type": "execute_result"
    }
   ],
   "source": [
    "list1=[77,38,10]\n",
    "33 not in list1"
   ]
  },
  {
   "cell_type": "code",
   "execution_count": 37,
   "id": "46faab57",
   "metadata": {},
   "outputs": [
    {
     "name": "stdout",
     "output_type": "stream",
     "text": [
      "검색할 문자를 입력하세요 >> 오렌지\n",
      "오렌지는 리스트에 들어있지 않습니다.\n"
     ]
    }
   ],
   "source": [
    "list_fruit=['딸기', '바나나', '수박', '체리', '포도']\n",
    "sel=input('검색할 문자를 입력하세요 >> ')\n",
    "if sel in list_fruit:\n",
    "    print(f'{sel}는 리스트에 {list_fruit.index(sel)}번째 인덱스에 들어있습니다.')\n",
    "else :\n",
    "    print(f'{sel}는 리스트에 들어있지 않습니다.')"
   ]
  },
  {
   "cell_type": "code",
   "execution_count": 38,
   "id": "661b1a07",
   "metadata": {},
   "outputs": [],
   "source": [
    "s=\"Hi. My name is geonha\""
   ]
  },
  {
   "cell_type": "code",
   "execution_count": 43,
   "id": "05ae2b76",
   "metadata": {},
   "outputs": [
    {
     "name": "stdout",
     "output_type": "stream",
     "text": [
      "검색할 문자를 입력하세요 >> a\n",
      "a는 문자열에 2번 들어 있습니다.\n"
     ]
    }
   ],
   "source": [
    "sc=input(\"검색할 문자를 입력하세요 >> \")\n",
    "if sc in s:\n",
    "    print(f'{sc}는 문자열에 {s.count(sc)}번 들어 있습니다.')\n",
    "else :\n",
    "    print(f'{sc}는 문자열에 들어있지 않습니다.')"
   ]
  },
  {
   "cell_type": "markdown",
   "id": "56e6b698",
   "metadata": {},
   "source": [
    "### 반복문\n",
    "- while : 반복 횟수가 명확하지 않을 때 사용\n",
    "- for : 반복 횟수가 명확할 때 사용"
   ]
  },
  {
   "cell_type": "markdown",
   "id": "ab776a64",
   "metadata": {},
   "source": [
    "while 조건문:\n",
    "    실행문장"
   ]
  },
  {
   "cell_type": "code",
   "execution_count": 44,
   "id": "15ace2ac",
   "metadata": {},
   "outputs": [
    {
     "name": "stdout",
     "output_type": "stream",
     "text": [
      "1. 파이썬 최고\n",
      "2. 파이썬 최고\n",
      "3. 파이썬 최고\n",
      "4. 파이썬 최고\n",
      "5. 파이썬 최고\n",
      "6. 파이썬 최고\n",
      "7. 파이썬 최고\n",
      "8. 파이썬 최고\n",
      "9. 파이썬 최고\n",
      "10. 파이썬 최고\n",
      "11. 파이썬 최고\n",
      "12. 파이썬 최고\n",
      "13. 파이썬 최고\n"
     ]
    }
   ],
   "source": [
    "num=0\n",
    "while num<13:\n",
    "    num+=1\n",
    "    print(f'{num}. 파이썬 최고')"
   ]
  },
  {
   "cell_type": "code",
   "execution_count": 54,
   "id": "d80b5063",
   "metadata": {},
   "outputs": [
    {
     "name": "stdout",
     "output_type": "stream",
     "text": [
      "정수입력 >> 1\n",
      "정수입력 >> 2\n",
      "두 정수의 합: 3\n",
      "정수입력 >> 7\n",
      "정수입력 >> 3\n",
      "두 정수의 합: 10\n",
      "정수입력 >> 13\n",
      "정수입력 >> 77\n",
      "두 정수의 합: 90\n",
      "정수입력 >> 0\n",
      "정수입력 >> 0\n",
      "프로그램 종료되었습니다.\n"
     ]
    }
   ],
   "source": [
    "while True:\n",
    "    num1= (int)(input('정수입력 >> '))\n",
    "    num2= (int)(input('정수입력 >> '))\n",
    "    if num1!=0 and num2!=0:\n",
    "        print(f'두 정수의 합: {num1+num2}')\n",
    "    if num1==0 and num2==0:\n",
    "        print('프로그램 종료되었습니다.')\n",
    "        break"
   ]
  },
  {
   "cell_type": "code",
   "execution_count": 4,
   "id": "72acfe90",
   "metadata": {},
   "outputs": [
    {
     "name": "stdout",
     "output_type": "stream",
     "text": [
      "현재 몸무게 입력 >> 80\n",
      "목표 몸무게 입력 >> 70\n",
      "1주차 감량 몸무게 : 2\n",
      "2주차 감량 몸무게 : 3\n",
      "3주차 감량 몸무게 : 5\n",
      "70kg 달성!! 축하합니다!!!\n"
     ]
    }
   ],
   "source": [
    "num=1\n",
    "weight1=(int)(input(\"현재 몸무게 입력 >> \"))\n",
    "weight2=(int)(input(\"목표 몸무게 입력 >> \"))\n",
    "while True:\n",
    "    w=(int)(input(f'{num}주차 감량 몸무게 : '))\n",
    "    weight1-=w\n",
    "    num+=1\n",
    "    if weight2>=(weight1):\n",
    "        print(f'{weight1}kg 달성!! 축하합니다!!!')\n",
    "        break"
   ]
  },
  {
   "cell_type": "code",
   "execution_count": null,
   "id": "0a2cc0c5",
   "metadata": {},
   "outputs": [],
   "source": [
    "#for 문장 구조\n",
    "for 변수 in 문자열(or 리스트 or 튜플):\n",
    "    print(변수)"
   ]
  },
  {
   "cell_type": "code",
   "execution_count": 6,
   "id": "74f861ca",
   "metadata": {},
   "outputs": [
    {
     "name": "stdout",
     "output_type": "stream",
     "text": [
      "안\n",
      "녕\n",
      "하\n",
      "세\n",
      "요\n"
     ]
    }
   ],
   "source": [
    "s='안녕하세요'\n",
    "for i in s:\n",
    "    print(i)"
   ]
  },
  {
   "cell_type": "code",
   "execution_count": 7,
   "id": "9f20ac16",
   "metadata": {},
   "outputs": [
    {
     "name": "stdout",
     "output_type": "stream",
     "text": [
      "햄버거\n",
      "치킨\n",
      "피자\n"
     ]
    }
   ],
   "source": [
    "tuple_food = ('햄버거', '치킨', '피자')\n",
    "for food in tuple_food:\n",
    "    print(food)"
   ]
  },
  {
   "cell_type": "code",
   "execution_count": 8,
   "id": "149618b3",
   "metadata": {},
   "outputs": [],
   "source": [
    "score_list=[90,45,70,60,55]"
   ]
  },
  {
   "cell_type": "code",
   "execution_count": 17,
   "id": "7365d123",
   "metadata": {},
   "outputs": [
    {
     "name": "stdout",
     "output_type": "stream",
     "text": [
      "1번 학생은 합격입니다\n",
      "2번 학생은 불합격입니다\n",
      "3번 학생은 합격입니다\n",
      "4번 학생은 합격입니다\n",
      "5번 학생은 불합격입니다\n"
     ]
    }
   ],
   "source": [
    "n=0;\n",
    "for i in score_list:\n",
    "    if i >=60:\n",
    "        print(f'{n+1}번 학생은 합격입니다.')\n",
    "    else:\n",
    "        print(f'{n+1}번 학생은 불합격입니다.')\n",
    "    n+=1"
   ]
  },
  {
   "cell_type": "code",
   "execution_count": null,
   "id": "f3fe649c",
   "metadata": {},
   "outputs": [],
   "source": []
  }
 ],
 "metadata": {
  "kernelspec": {
   "display_name": "Python 3 (ipykernel)",
   "language": "python",
   "name": "python3"
  },
  "language_info": {
   "codemirror_mode": {
    "name": "ipython",
    "version": 3
   },
   "file_extension": ".py",
   "mimetype": "text/x-python",
   "name": "python",
   "nbconvert_exporter": "python",
   "pygments_lexer": "ipython3",
   "version": "3.9.7"
  }
 },
 "nbformat": 4,
 "nbformat_minor": 5
}
